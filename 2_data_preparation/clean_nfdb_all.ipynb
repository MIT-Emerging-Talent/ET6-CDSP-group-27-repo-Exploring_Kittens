{
 "cells": [
  {
   "cell_type": "code",
   "execution_count": null,
   "id": "32f63fa7-d536-4f39-b2c7-91a4de0235cc",
   "metadata": {},
   "outputs": [],
   "source": [
    "# Install required libraries (run once)\n",
    "%pip install geopandas pandas\n",
    "\n",
    "# Import libraries\n",
    "import geopandas as gpd\n",
    "import pandas as pd\n",
    "import os"
   ]
  },
  {
   "cell_type": "code",
   "execution_count": null,
   "id": "51db529a-f777-49ea-82f9-1993f68af378",
   "metadata": {},
   "outputs": [],
   "source": [
    "# Set the shapefile path (adjust if needed)\n",
    "shapefile_path = \"./NFDB_point_20250519.shp\"\n",
    "\n",
    "if not os.path.exists(shapefile_path):\n",
    "    raise FileNotFoundError(f\"Shapefile not found at {shapefile_path}\")\n",
    "\n",
    "print(\"Loading NFDB shapefile...\")\n",
    "gdf = gpd.read_file(shapefile_path)\n",
    "print(f\"Raw data loaded. Shape: {gdf.shape}\")\n",
    "\n",
    "# Preview columns and first rows\n",
    "print(\"Columns:\", gdf.columns)\n",
    "gdf.head()"
   ]
  },
  {
   "cell_type": "code",
   "execution_count": null,
   "id": "cb38fdfa-aee0-4af6-b1b8-d478953848c7",
   "metadata": {},
   "outputs": [],
   "source": [
    "# Convert to snake_case\n",
    "gdf.columns = gdf.columns.str.lower()\n",
    "gdf.columns = gdf.columns.str.replace(\" \", \"_\")\n",
    "\n",
    "print(\"Standardized columns:\", gdf.columns)"
   ]
  },
  {
   "cell_type": "code",
   "execution_count": null,
   "id": "9ec39422-6cd4-4690-8ba1-d5640915fbb1",
   "metadata": {},
   "outputs": [],
   "source": [
    "# Select only the necessary columns\n",
    "keep_cols = [\n",
    "    \"nfdbfireid\",\n",
    "    \"src_agency\",\n",
    "    \"fire_id\",\n",
    "    \"latitude\",\n",
    "    \"longitude\",\n",
    "    \"year\",\n",
    "    \"month\",\n",
    "    \"day\",\n",
    "    \"rep_date\",\n",
    "    \"out_date\",\n",
    "    \"size_ha\",\n",
    "    \"cause\",\n",
    "    \"fire_type\",\n",
    "    \"prescribed\",\n",
    "]\n",
    "\n",
    "# Check for missing expected columns\n",
    "missing_cols = [col for col in keep_cols if col not in gdf.columns]\n",
    "if missing_cols:\n",
    "    print(f\"Warning: Missing columns -> {missing_cols}\")\n",
    "\n",
    "gdf = gdf[[col for col in keep_cols if col in gdf.columns]]\n",
    "gdf.head()"
   ]
  },
  {
   "cell_type": "code",
   "execution_count": null,
   "id": "af631b91-5614-4675-894f-d86caeb5621e",
   "metadata": {},
   "outputs": [],
   "source": [
    "# Convert date columns to ISO format\n",
    "date_cols = [\"rep_date\", \"out_date\"]\n",
    "for col in date_cols:\n",
    "    if col in gdf.columns:\n",
    "        gdf[col] = pd.to_datetime(gdf[col], errors=\"coerce\").dt.date\n",
    "\n",
    "# Convert numeric columns\n",
    "if \"size_ha\" in gdf.columns:\n",
    "    gdf[\"size_ha\"] = pd.to_numeric(gdf[\"size_ha\"], errors=\"coerce\")\n",
    "if \"year\" in gdf.columns:\n",
    "    gdf[\"year\"] = pd.to_numeric(gdf[\"year\"], errors=\"coerce\")\n",
    "\n",
    "gdf.head()"
   ]
  },
  {
   "cell_type": "code",
   "execution_count": null,
   "id": "55ff2191-02a3-4107-b56b-ac912118555a",
   "metadata": {},
   "outputs": [],
   "source": [
    "# Drop rows missing essential fields\n",
    "gdf = gdf.dropna(subset=[\"latitude\", \"longitude\", \"year\"])\n",
    "print(f\"Data after dropping missing critical values. Shape: {gdf.shape}\")"
   ]
  },
  {
   "cell_type": "code",
   "execution_count": null,
   "id": "375e2216-a46d-47a1-a3df-3654a17524c1",
   "metadata": {},
   "outputs": [],
   "source": [
    "output_path = \"../1_datasets/all_fires.csv\"\n",
    "gdf.to_csv(output_path, index=False)\n",
    "print(f\"Cleaned data saved to {output_path}\")"
   ]
  },
  {
   "cell_type": "code",
   "execution_count": null,
   "id": "55b56c53-04d2-4d82-84d8-85a703828294",
   "metadata": {},
   "outputs": [],
   "source": []
  }
 ],
 "metadata": {
  "kernelspec": {
   "display_name": "Python 3 (ipykernel)",
   "language": "python",
   "name": "python3"
  },
  "language_info": {
   "codemirror_mode": {
    "name": "ipython",
    "version": 3
   },
   "file_extension": ".py",
   "mimetype": "text/x-python",
   "name": "python",
   "nbconvert_exporter": "python",
   "pygments_lexer": "ipython3",
   "version": "3.12.11"
  }
 },
 "nbformat": 4,
 "nbformat_minor": 5
}
